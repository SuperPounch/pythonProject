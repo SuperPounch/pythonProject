{
 "cells": [
  {
   "cell_type": "code",
   "execution_count": null,
   "outputs": [],
   "source": [
    "#ML Course in HDU, first lab\n",
    "ID=15358282499\n",
    "\n",
    "# Function to add a value to a list\n",
    "def add_element (lst, val):\n",
    "    lst.append(val)\n",
    "\n",
    "numbers=[int(x) for x in str(ID)]\n",
    "#numbers is 'map'\n",
    "num=[]\n",
    "#for i in range(0,9):\n",
    "#    print('numbers[%i] = %i' %(i, numbers[i]))\n",
    "for i in range(0,3):\n",
    "    a=i*3\n",
    "    add_element(num,numbers[a]*100+numbers[a+1]*10+numbers[a+2])\n",
    "print(num)"
   ],
   "metadata": {
    "collapsed": false,
    "pycharm": {
     "name": "#%%\n"
    }
   }
  },
  {
   "cell_type": "code",
   "execution_count": null,
   "outputs": [],
   "source": [
    "import numpy as np\n",
    "for i in range(0,3):\n",
    "    tmp[i] = [int(x) for x in str(num[i])]\n",
    "print(tmp)\n",
    "#three-dimensional list?didn't understand why it's three,not two?but it work\n",
    "arr=np.array(tmp)\n",
    "print(arr)"
   ],
   "metadata": {
    "collapsed": false,
    "pycharm": {
     "name": "#%%\n"
    }
   }
  },
  {
   "cell_type": "code",
   "execution_count": null,
   "outputs": [],
   "source": [
    "#reversed matrix A (if you can reverse it), transposed matrix A\n",
    "arr_reversed=np.linalg.inv(arr)\n",
    "arr_transposed=arr.T\n",
    "print(arr_reversed,'\\n')\n",
    "print(arr_transposed,'\\n')\n",
    "print(np.dot(arr,arr_reversed))"
   ],
   "metadata": {
    "collapsed": false,
    "pycharm": {
     "name": "#%%\n"
    }
   }
  }
 ],
 "metadata": {
  "kernelspec": {
   "display_name": "Python 3",
   "language": "python",
   "name": "python3"
  },
  "language_info": {
   "codemirror_mode": {
    "name": "ipython",
    "version": 2
   },
   "file_extension": ".py",
   "mimetype": "text/x-python",
   "name": "python",
   "nbconvert_exporter": "python",
   "pygments_lexer": "ipython2",
   "version": "2.7.6"
  }
 },
 "nbformat": 4,
 "nbformat_minor": 0
}